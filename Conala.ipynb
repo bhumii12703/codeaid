{
 "cells": [
  {
   "cell_type": "markdown",
   "id": "334d8ac3-a7bc-44e0-91f7-9e038056cf08",
   "metadata": {},
   "source": [
    "# 1. Import all Modules"
   ]
  },
  {
   "cell_type": "code",
   "execution_count": 35,
   "id": "d8faf72e-9b2c-4d9f-bd89-cdb21adad3cd",
   "metadata": {},
   "outputs": [],
   "source": [
    "from datasets import load_dataset, load_metric\n",
    "import accelerate\n",
    "import torch\n",
    "import gc\n",
    "from transformers import T5Tokenizer, T5ForConditionalGeneration, Trainer, TrainingArguments\n",
    "from datasets import load_metric, DatasetDict\n",
    "import rouge_score\n",
    "import nltk\n",
    "import absl\n",
    "import os\n",
    "import numpy as np\n",
    "from torch.utils.data import DataLoader\n",
    "from bert_score import score as bert_score\n",
    "import nltk\n",
    "import matplotlib.pyplot as plt"
   ]
  },
  {
   "cell_type": "code",
   "execution_count": 2,
   "id": "15120dbf-686f-4395-af1e-30a2292bc5d3",
   "metadata": {},
   "outputs": [],
   "source": [
    "os.environ['PYTORCH_CUDA_ALLOC_CONF'] = 'expandable_segments:True'"
   ]
  },
  {
   "cell_type": "markdown",
   "id": "2895977a-75bb-45f7-b31c-4aec72de0349",
   "metadata": {},
   "source": [
    "# 2. Dataset"
   ]
  },
  {
   "cell_type": "markdown",
   "id": "fadfa0ad-cbc1-4d15-b21c-6013588c5b8a",
   "metadata": {},
   "source": [
    "### 2.1 Import Dataset"
   ]
  },
  {
   "cell_type": "code",
   "execution_count": 3,
   "id": "394ee65b-94d8-4d19-8c69-9c97c62e1c21",
   "metadata": {},
   "outputs": [
    {
     "data": {
      "text/plain": [
       "DatasetDict({\n",
       "    train: Dataset({\n",
       "        features: ['question_id', 'intent', 'rewritten_intent', 'snippet'],\n",
       "        num_rows: 2379\n",
       "    })\n",
       "    test: Dataset({\n",
       "        features: ['question_id', 'intent', 'rewritten_intent', 'snippet'],\n",
       "        num_rows: 500\n",
       "    })\n",
       "})"
      ]
     },
     "execution_count": 3,
     "metadata": {},
     "output_type": "execute_result"
    }
   ],
   "source": [
    "from datasets import load_dataset\n",
    "\n",
    "dataset = load_dataset(\"neulab/conala\", \"curated\")\n",
    "dataset"
   ]
  },
  {
   "cell_type": "markdown",
   "id": "a8780bf1-5704-426b-934f-330c417c73a0",
   "metadata": {},
   "source": [
    "### 2.2 Data preprocessing function"
   ]
  },
  {
   "cell_type": "code",
   "execution_count": 4,
   "id": "0873c2f6-f65b-4b2b-993c-8349dbcc70b8",
   "metadata": {},
   "outputs": [],
   "source": [
    "def preprocess_function(examples):\n",
    "    # Ensure inputs (code snippets) and targets (explanations) are valid strings\n",
    "    valid_inputs = []\n",
    "    valid_targets = []\n",
    "    for code, intent in zip(examples[\"snippet\"], examples[\"rewritten_intent\"]):\n",
    "        if isinstance(code, str) and isinstance(intent, str):\n",
    "            valid_inputs.append(f\"explain: {code}\")\n",
    "            valid_targets.append(intent)\n",
    "\n",
    "    # Ensure valid_inputs and valid_targets are not empty to prevent errors\n",
    "    if not valid_inputs or not valid_targets:\n",
    "        return {\"input_ids\": [], \"attention_mask\": [], \"labels\": []}\n",
    "\n",
    "    # Tokenize inputs and targets\n",
    "    tokenized_inputs = tokenizer(\n",
    "        valid_inputs,\n",
    "        max_length=32,\n",
    "        truncation=True,\n",
    "        padding=\"max_length\"\n",
    "    )\n",
    "    tokenized_targets = tokenizer(\n",
    "        valid_targets,\n",
    "        max_length=64,\n",
    "        truncation=True,\n",
    "        padding=\"max_length\"\n",
    "    )\n",
    "\n",
    "    # Add the tokenized targets to the input dictionary as \"labels\"\n",
    "    tokenized_inputs[\"labels\"] = tokenized_targets[\"input_ids\"]\n",
    "\n",
    "    return tokenized_inputs"
   ]
  },
  {
   "cell_type": "code",
   "execution_count": 5,
   "id": "028e9865-0d3d-4ba5-b7f5-1a2adc337e98",
   "metadata": {},
   "outputs": [
    {
     "name": "stdout",
     "output_type": "stream",
     "text": [
      "Number of invalid rows: 79\n"
     ]
    }
   ],
   "source": [
    "# Check for invalid rows\n",
    "invalid_rows = dataset[\"train\"].filter(\n",
    "    lambda example: not isinstance(example[\"snippet\"], str) or not isinstance(example[\"rewritten_intent\"], str)\n",
    ")\n",
    "print(f\"Number of invalid rows: {len(invalid_rows)}\")"
   ]
  },
  {
   "cell_type": "code",
   "execution_count": 6,
   "id": "a443944f-7972-4438-b061-9ac3763994fc",
   "metadata": {},
   "outputs": [
    {
     "data": {
      "text/plain": [
       "DatasetDict({\n",
       "    train: Dataset({\n",
       "        features: ['question_id', 'intent', 'rewritten_intent', 'snippet'],\n",
       "        num_rows: 2300\n",
       "    })\n",
       "    test: Dataset({\n",
       "        features: ['question_id', 'intent', 'rewritten_intent', 'snippet'],\n",
       "        num_rows: 477\n",
       "    })\n",
       "})"
      ]
     },
     "execution_count": 6,
     "metadata": {},
     "output_type": "execute_result"
    }
   ],
   "source": [
    "# Remove invalid rows\n",
    "dataset = dataset.filter(\n",
    "    lambda example: isinstance(example[\"snippet\"], str) and isinstance(example[\"rewritten_intent\"], str)\n",
    ")\n",
    "dataset"
   ]
  },
  {
   "cell_type": "markdown",
   "id": "7f738a33-69f4-4abe-a7e1-cd975ae48b5d",
   "metadata": {},
   "source": [
    "### Clear Cache"
   ]
  },
  {
   "cell_type": "code",
   "execution_count": 10,
   "id": "2a0328bc-27fb-4f7f-b710-99fae7a0ee96",
   "metadata": {},
   "outputs": [],
   "source": [
    "# Clear cache periodically\n",
    "torch.cuda.empty_cache()"
   ]
  },
  {
   "cell_type": "markdown",
   "id": "20489a05-4d62-4815-bceb-418b0fe0eb61",
   "metadata": {},
   "source": [
    "# 3. Model Training (with Memory Management Technique)"
   ]
  },
  {
   "cell_type": "code",
   "execution_count": 11,
   "id": "d3a8a644-6c9b-45c9-b787-008b65b00ede",
   "metadata": {},
   "outputs": [],
   "source": [
    "def compute_metrics(eval_pred):\n",
    "    # Unpack predictions and labels\n",
    "    predictions, labels = eval_pred\n",
    "\n",
    "    # Convert to numpy arrays if needed\n",
    "    if isinstance(predictions, torch.Tensor):\n",
    "        predictions = predictions.detach().cpu().numpy()\n",
    "    if isinstance(labels, torch.Tensor):\n",
    "        labels = labels.detach().cpu().numpy()\n",
    "\n",
    "    # Clear memory\n",
    "    torch.cuda.empty_cache()\n",
    "\n",
    "    # Decode predictions and labels\n",
    "    decoded_preds = []\n",
    "    decoded_labels = []\n",
    "    chunk_size = 16  # Adjust as needed\n",
    "    for i in range(0, len(predictions), chunk_size):\n",
    "        chunk_preds = predictions[i:i + chunk_size]\n",
    "        chunk_labels = labels[i:i + chunk_size]\n",
    "\n",
    "        # Ensure proper format for decoding\n",
    "        if isinstance(chunk_preds[0], list):\n",
    "            chunk_preds = [int(token) for sublist in chunk_preds for token in sublist]\n",
    "        if isinstance(chunk_labels[0], list):\n",
    "            chunk_labels = [int(token) for sublist in chunk_labels for token in sublist]\n",
    "\n",
    "        decoded_preds.extend(tokenizer.batch_decode(chunk_preds, skip_special_tokens=True))\n",
    "        decoded_labels.extend(tokenizer.batch_decode(chunk_labels, skip_special_tokens=True))\n",
    "\n",
    "    # Print for debugging\n",
    "    print(f\"Decoded predictions: {decoded_preds}\")\n",
    "    print(f\"Decoded labels: {decoded_labels}\")\n",
    "\n",
    "    # Compute and return Rouge scores\n",
    "    result = metric.compute(\n",
    "        predictions=[pred.strip() for pred in decoded_preds],\n",
    "        references=[label.strip() for label in decoded_labels],\n",
    "        use_stemmer=True\n",
    "    )\n",
    "    print(f\"Rouge scores: {result}\")\n",
    "\n",
    "    return {key: value.mid.fmeasure for key, value in result.items()}\n",
    "\n",
    "\n",
    "\n",
    "# Define Trainer with additional memory management\n",
    "class MemoryEfficientTrainer(Trainer):\n",
    "    def training_step(self, model, inputs):\n",
    "        # Run garbage collection and clear GPU memory before training step\n",
    "        torch.cuda.empty_cache()\n",
    "        gc.collect()\n",
    "\n",
    "        return super().training_step(model, inputs)\n",
    "\n",
    "    def evaluation_step(self, model, inputs, prediction_loss_only=False):\n",
    "        # Run garbage collection and clear GPU memory before evaluation step\n",
    "        torch.cuda.empty_cache()\n",
    "        gc.collect()\n",
    "\n",
    "        return super().evaluation_step(model, inputs, prediction_loss_only=prediction_loss_only)\n",
    "\n",
    "def train_with_retry(trainer, max_retries=3, last_checkpoint=None):\n",
    "    retries = 0\n",
    "    while retries < max_retries:\n",
    "        try:\n",
    "            trainer.train(resume_from_checkpoint=last_checkpoint)\n",
    "            break  # Exit loop if training succeeds\n",
    "        except RuntimeError as e:\n",
    "            if \"out of memory\" in str(e):\n",
    "                print(f\"Out of memory error detected. Clearing cache and retrying... (Attempt {retries + 1}/{max_retries})\")\n",
    "                torch.cuda.empty_cache()\n",
    "                gc.collect()\n",
    "                retries += 1\n",
    "                last_checkpoint = trainer.state.best_model_checkpoint  # Update to the latest checkpoint\n",
    "            else:\n",
    "                raise  # Raise other errors\n",
    "    else:\n",
    "        print(\"Training failed after maximum retries.\")\n",
    "\n",
    "\n",
    "def clear_memory():\n",
    "    torch.cuda.empty_cache()\n",
    "    gc.collect()"
   ]
  },
  {
   "cell_type": "code",
   "execution_count": 12,
   "id": "7241312d-164e-4019-8e7c-26f69dc76e10",
   "metadata": {},
   "outputs": [
    {
     "name": "stderr",
     "output_type": "stream",
     "text": [
      "D:\\Projects\\AI Code Generator\\AICG.env\\lib\\site-packages\\datasets\\load.py:759: FutureWarning: The repository for rouge contains custom code which must be executed to correctly load the metric. You can inspect the repository content at https://raw.githubusercontent.com/huggingface/datasets/2.19.1/metrics/rouge/rouge.py\n",
      "You can avoid this message in future by passing the argument `trust_remote_code=True`.\n",
      "Passing `trust_remote_code=True` will be mandatory to load this metric from the next major release of `datasets`.\n",
      "  warnings.warn(\n"
     ]
    },
    {
     "name": "stdout",
     "output_type": "stream",
     "text": [
      "Starting epoch 1/10...\n"
     ]
    },
    {
     "data": {
      "text/html": [
       "\n",
       "    <div>\n",
       "      \n",
       "      <progress value='1430' max='1430' style='width:300px; height:20px; vertical-align: middle;'></progress>\n",
       "      [1430/1430 1:17:53, Epoch 9/10]\n",
       "    </div>\n",
       "    <table border=\"1\" class=\"dataframe\">\n",
       "  <thead>\n",
       " <tr style=\"text-align: left;\">\n",
       "      <th>Epoch</th>\n",
       "      <th>Training Loss</th>\n",
       "      <th>Validation Loss</th>\n",
       "    </tr>\n",
       "  </thead>\n",
       "  <tbody>\n",
       "    <tr>\n",
       "      <td>0</td>\n",
       "      <td>7.265500</td>\n",
       "      <td>1.658271</td>\n",
       "    </tr>\n",
       "    <tr>\n",
       "      <td>1</td>\n",
       "      <td>2.914500</td>\n",
       "      <td>1.369148</td>\n",
       "    </tr>\n",
       "    <tr>\n",
       "      <td>2</td>\n",
       "      <td>1.602100</td>\n",
       "      <td>1.244390</td>\n",
       "    </tr>\n",
       "    <tr>\n",
       "      <td>4</td>\n",
       "      <td>1.280800</td>\n",
       "      <td>1.067841</td>\n",
       "    </tr>\n",
       "    <tr>\n",
       "      <td>5</td>\n",
       "      <td>1.230700</td>\n",
       "      <td>1.013551</td>\n",
       "    </tr>\n",
       "    <tr>\n",
       "      <td>6</td>\n",
       "      <td>1.148200</td>\n",
       "      <td>0.969668</td>\n",
       "    </tr>\n",
       "    <tr>\n",
       "      <td>8</td>\n",
       "      <td>1.110100</td>\n",
       "      <td>0.932253</td>\n",
       "    </tr>\n",
       "    <tr>\n",
       "      <td>9</td>\n",
       "      <td>1.104600</td>\n",
       "      <td>0.927910</td>\n",
       "    </tr>\n",
       "  </tbody>\n",
       "</table><p>"
      ],
      "text/plain": [
       "<IPython.core.display.HTML object>"
      ]
     },
     "metadata": {},
     "output_type": "display_data"
    },
    {
     "data": {
      "text/html": [
       "\n",
       "    <div>\n",
       "      \n",
       "      <progress value='954' max='477' style='width:300px; height:20px; vertical-align: middle;'></progress>\n",
       "      [477/477 07:55]\n",
       "    </div>\n",
       "    "
      ],
      "text/plain": [
       "<IPython.core.display.HTML object>"
      ]
     },
     "metadata": {},
     "output_type": "display_data"
    },
    {
     "name": "stdout",
     "output_type": "stream",
     "text": [
      "Starting epoch 2/10...\n"
     ]
    },
    {
     "data": {
      "text/html": [
       "\n",
       "    <div>\n",
       "      \n",
       "      <progress value='1430' max='1430' style='width:300px; height:20px; vertical-align: middle;'></progress>\n",
       "      [1430/1430 1:17:43, Epoch 9/10]\n",
       "    </div>\n",
       "    <table border=\"1\" class=\"dataframe\">\n",
       "  <thead>\n",
       " <tr style=\"text-align: left;\">\n",
       "      <th>Epoch</th>\n",
       "      <th>Training Loss</th>\n",
       "      <th>Validation Loss</th>\n",
       "    </tr>\n",
       "  </thead>\n",
       "  <tbody>\n",
       "    <tr>\n",
       "      <td>0</td>\n",
       "      <td>1.074600</td>\n",
       "      <td>0.879400</td>\n",
       "    </tr>\n",
       "    <tr>\n",
       "      <td>1</td>\n",
       "      <td>1.049600</td>\n",
       "      <td>0.849605</td>\n",
       "    </tr>\n",
       "    <tr>\n",
       "      <td>2</td>\n",
       "      <td>0.991900</td>\n",
       "      <td>0.831254</td>\n",
       "    </tr>\n",
       "    <tr>\n",
       "      <td>4</td>\n",
       "      <td>0.958600</td>\n",
       "      <td>0.809541</td>\n",
       "    </tr>\n",
       "    <tr>\n",
       "      <td>5</td>\n",
       "      <td>0.948600</td>\n",
       "      <td>0.802673</td>\n",
       "    </tr>\n",
       "    <tr>\n",
       "      <td>6</td>\n",
       "      <td>0.925400</td>\n",
       "      <td>0.797707</td>\n",
       "    </tr>\n",
       "    <tr>\n",
       "      <td>8</td>\n",
       "      <td>0.918700</td>\n",
       "      <td>0.792154</td>\n",
       "    </tr>\n",
       "    <tr>\n",
       "      <td>9</td>\n",
       "      <td>0.922600</td>\n",
       "      <td>0.791580</td>\n",
       "    </tr>\n",
       "  </tbody>\n",
       "</table><p>"
      ],
      "text/plain": [
       "<IPython.core.display.HTML object>"
      ]
     },
     "metadata": {},
     "output_type": "display_data"
    },
    {
     "data": {
      "text/html": [
       "\n",
       "    <div>\n",
       "      \n",
       "      <progress value='954' max='477' style='width:300px; height:20px; vertical-align: middle;'></progress>\n",
       "      [477/477 07:53]\n",
       "    </div>\n",
       "    "
      ],
      "text/plain": [
       "<IPython.core.display.HTML object>"
      ]
     },
     "metadata": {},
     "output_type": "display_data"
    },
    {
     "name": "stdout",
     "output_type": "stream",
     "text": [
      "Starting epoch 3/10...\n"
     ]
    },
    {
     "data": {
      "text/html": [
       "\n",
       "    <div>\n",
       "      \n",
       "      <progress value='1430' max='1430' style='width:300px; height:20px; vertical-align: middle;'></progress>\n",
       "      [1430/1430 1:17:25, Epoch 9/10]\n",
       "    </div>\n",
       "    <table border=\"1\" class=\"dataframe\">\n",
       "  <thead>\n",
       " <tr style=\"text-align: left;\">\n",
       "      <th>Epoch</th>\n",
       "      <th>Training Loss</th>\n",
       "      <th>Validation Loss</th>\n",
       "    </tr>\n",
       "  </thead>\n",
       "  <tbody>\n",
       "    <tr>\n",
       "      <td>0</td>\n",
       "      <td>0.914000</td>\n",
       "      <td>0.781193</td>\n",
       "    </tr>\n",
       "    <tr>\n",
       "      <td>1</td>\n",
       "      <td>0.908900</td>\n",
       "      <td>0.772475</td>\n",
       "    </tr>\n",
       "    <tr>\n",
       "      <td>2</td>\n",
       "      <td>0.890900</td>\n",
       "      <td>0.765170</td>\n",
       "    </tr>\n",
       "    <tr>\n",
       "      <td>4</td>\n",
       "      <td>0.880500</td>\n",
       "      <td>0.755628</td>\n",
       "    </tr>\n",
       "    <tr>\n",
       "      <td>5</td>\n",
       "      <td>0.873100</td>\n",
       "      <td>0.752398</td>\n",
       "    </tr>\n",
       "    <tr>\n",
       "      <td>6</td>\n",
       "      <td>0.856200</td>\n",
       "      <td>0.749403</td>\n",
       "    </tr>\n",
       "    <tr>\n",
       "      <td>8</td>\n",
       "      <td>0.851500</td>\n",
       "      <td>0.746963</td>\n",
       "    </tr>\n",
       "    <tr>\n",
       "      <td>9</td>\n",
       "      <td>0.862600</td>\n",
       "      <td>0.746615</td>\n",
       "    </tr>\n",
       "  </tbody>\n",
       "</table><p>"
      ],
      "text/plain": [
       "<IPython.core.display.HTML object>"
      ]
     },
     "metadata": {},
     "output_type": "display_data"
    },
    {
     "data": {
      "text/html": [
       "\n",
       "    <div>\n",
       "      \n",
       "      <progress value='954' max='477' style='width:300px; height:20px; vertical-align: middle;'></progress>\n",
       "      [477/477 07:53]\n",
       "    </div>\n",
       "    "
      ],
      "text/plain": [
       "<IPython.core.display.HTML object>"
      ]
     },
     "metadata": {},
     "output_type": "display_data"
    },
    {
     "name": "stdout",
     "output_type": "stream",
     "text": [
      "Starting epoch 4/10...\n"
     ]
    },
    {
     "data": {
      "text/html": [
       "\n",
       "    <div>\n",
       "      \n",
       "      <progress value='1430' max='1430' style='width:300px; height:20px; vertical-align: middle;'></progress>\n",
       "      [1430/1430 1:17:25, Epoch 9/10]\n",
       "    </div>\n",
       "    <table border=\"1\" class=\"dataframe\">\n",
       "  <thead>\n",
       " <tr style=\"text-align: left;\">\n",
       "      <th>Epoch</th>\n",
       "      <th>Training Loss</th>\n",
       "      <th>Validation Loss</th>\n",
       "    </tr>\n",
       "  </thead>\n",
       "  <tbody>\n",
       "    <tr>\n",
       "      <td>0</td>\n",
       "      <td>0.854500</td>\n",
       "      <td>0.740787</td>\n",
       "    </tr>\n",
       "    <tr>\n",
       "      <td>1</td>\n",
       "      <td>0.848600</td>\n",
       "      <td>0.735972</td>\n",
       "    </tr>\n",
       "    <tr>\n",
       "      <td>2</td>\n",
       "      <td>0.835700</td>\n",
       "      <td>0.731770</td>\n",
       "    </tr>\n",
       "    <tr>\n",
       "      <td>4</td>\n",
       "      <td>0.832800</td>\n",
       "      <td>0.725439</td>\n",
       "    </tr>\n",
       "    <tr>\n",
       "      <td>5</td>\n",
       "      <td>0.827700</td>\n",
       "      <td>0.723200</td>\n",
       "    </tr>\n",
       "    <tr>\n",
       "      <td>6</td>\n",
       "      <td>0.814300</td>\n",
       "      <td>0.721395</td>\n",
       "    </tr>\n",
       "    <tr>\n",
       "      <td>8</td>\n",
       "      <td>0.809800</td>\n",
       "      <td>0.719749</td>\n",
       "    </tr>\n",
       "    <tr>\n",
       "      <td>9</td>\n",
       "      <td>0.818800</td>\n",
       "      <td>0.719599</td>\n",
       "    </tr>\n",
       "  </tbody>\n",
       "</table><p>"
      ],
      "text/plain": [
       "<IPython.core.display.HTML object>"
      ]
     },
     "metadata": {},
     "output_type": "display_data"
    },
    {
     "data": {
      "text/html": [
       "\n",
       "    <div>\n",
       "      \n",
       "      <progress value='954' max='477' style='width:300px; height:20px; vertical-align: middle;'></progress>\n",
       "      [477/477 07:54]\n",
       "    </div>\n",
       "    "
      ],
      "text/plain": [
       "<IPython.core.display.HTML object>"
      ]
     },
     "metadata": {},
     "output_type": "display_data"
    },
    {
     "name": "stdout",
     "output_type": "stream",
     "text": [
      "Starting epoch 5/10...\n"
     ]
    },
    {
     "data": {
      "text/html": [
       "\n",
       "    <div>\n",
       "      \n",
       "      <progress value='1430' max='1430' style='width:300px; height:20px; vertical-align: middle;'></progress>\n",
       "      [1430/1430 1:17:43, Epoch 9/10]\n",
       "    </div>\n",
       "    <table border=\"1\" class=\"dataframe\">\n",
       "  <thead>\n",
       " <tr style=\"text-align: left;\">\n",
       "      <th>Epoch</th>\n",
       "      <th>Training Loss</th>\n",
       "      <th>Validation Loss</th>\n",
       "    </tr>\n",
       "  </thead>\n",
       "  <tbody>\n",
       "    <tr>\n",
       "      <td>0</td>\n",
       "      <td>0.813100</td>\n",
       "      <td>0.715722</td>\n",
       "    </tr>\n",
       "    <tr>\n",
       "      <td>1</td>\n",
       "      <td>0.809700</td>\n",
       "      <td>0.712445</td>\n",
       "    </tr>\n",
       "    <tr>\n",
       "      <td>2</td>\n",
       "      <td>0.798700</td>\n",
       "      <td>0.709482</td>\n",
       "    </tr>\n",
       "    <tr>\n",
       "      <td>4</td>\n",
       "      <td>0.801600</td>\n",
       "      <td>0.704954</td>\n",
       "    </tr>\n",
       "    <tr>\n",
       "      <td>5</td>\n",
       "      <td>0.797900</td>\n",
       "      <td>0.703470</td>\n",
       "    </tr>\n",
       "    <tr>\n",
       "      <td>6</td>\n",
       "      <td>0.784900</td>\n",
       "      <td>0.702454</td>\n",
       "    </tr>\n",
       "    <tr>\n",
       "      <td>8</td>\n",
       "      <td>0.778700</td>\n",
       "      <td>0.700856</td>\n",
       "    </tr>\n",
       "    <tr>\n",
       "      <td>9</td>\n",
       "      <td>0.789600</td>\n",
       "      <td>0.700700</td>\n",
       "    </tr>\n",
       "  </tbody>\n",
       "</table><p>"
      ],
      "text/plain": [
       "<IPython.core.display.HTML object>"
      ]
     },
     "metadata": {},
     "output_type": "display_data"
    },
    {
     "data": {
      "text/html": [
       "\n",
       "    <div>\n",
       "      \n",
       "      <progress value='954' max='477' style='width:300px; height:20px; vertical-align: middle;'></progress>\n",
       "      [477/477 07:55]\n",
       "    </div>\n",
       "    "
      ],
      "text/plain": [
       "<IPython.core.display.HTML object>"
      ]
     },
     "metadata": {},
     "output_type": "display_data"
    },
    {
     "name": "stdout",
     "output_type": "stream",
     "text": [
      "Starting epoch 6/10...\n"
     ]
    },
    {
     "data": {
      "text/html": [
       "\n",
       "    <div>\n",
       "      \n",
       "      <progress value='1430' max='1430' style='width:300px; height:20px; vertical-align: middle;'></progress>\n",
       "      [1430/1430 1:17:48, Epoch 9/10]\n",
       "    </div>\n",
       "    <table border=\"1\" class=\"dataframe\">\n",
       "  <thead>\n",
       " <tr style=\"text-align: left;\">\n",
       "      <th>Epoch</th>\n",
       "      <th>Training Loss</th>\n",
       "      <th>Validation Loss</th>\n",
       "    </tr>\n",
       "  </thead>\n",
       "  <tbody>\n",
       "    <tr>\n",
       "      <td>0</td>\n",
       "      <td>0.780900</td>\n",
       "      <td>0.697803</td>\n",
       "    </tr>\n",
       "    <tr>\n",
       "      <td>1</td>\n",
       "      <td>0.782400</td>\n",
       "      <td>0.694751</td>\n",
       "    </tr>\n",
       "    <tr>\n",
       "      <td>2</td>\n",
       "      <td>0.774400</td>\n",
       "      <td>0.692411</td>\n",
       "    </tr>\n",
       "    <tr>\n",
       "      <td>4</td>\n",
       "      <td>0.774500</td>\n",
       "      <td>0.688812</td>\n",
       "    </tr>\n",
       "    <tr>\n",
       "      <td>5</td>\n",
       "      <td>0.772700</td>\n",
       "      <td>0.687727</td>\n",
       "    </tr>\n",
       "    <tr>\n",
       "      <td>6</td>\n",
       "      <td>0.758300</td>\n",
       "      <td>0.686686</td>\n",
       "    </tr>\n",
       "    <tr>\n",
       "      <td>8</td>\n",
       "      <td>0.754100</td>\n",
       "      <td>0.685621</td>\n",
       "    </tr>\n",
       "    <tr>\n",
       "      <td>9</td>\n",
       "      <td>0.765700</td>\n",
       "      <td>0.685518</td>\n",
       "    </tr>\n",
       "  </tbody>\n",
       "</table><p>"
      ],
      "text/plain": [
       "<IPython.core.display.HTML object>"
      ]
     },
     "metadata": {},
     "output_type": "display_data"
    },
    {
     "data": {
      "text/html": [
       "\n",
       "    <div>\n",
       "      \n",
       "      <progress value='954' max='477' style='width:300px; height:20px; vertical-align: middle;'></progress>\n",
       "      [477/477 07:56]\n",
       "    </div>\n",
       "    "
      ],
      "text/plain": [
       "<IPython.core.display.HTML object>"
      ]
     },
     "metadata": {},
     "output_type": "display_data"
    },
    {
     "name": "stdout",
     "output_type": "stream",
     "text": [
      "Starting epoch 7/10...\n"
     ]
    },
    {
     "data": {
      "text/html": [
       "\n",
       "    <div>\n",
       "      \n",
       "      <progress value='1430' max='1430' style='width:300px; height:20px; vertical-align: middle;'></progress>\n",
       "      [1430/1430 1:18:00, Epoch 9/10]\n",
       "    </div>\n",
       "    <table border=\"1\" class=\"dataframe\">\n",
       "  <thead>\n",
       " <tr style=\"text-align: left;\">\n",
       "      <th>Epoch</th>\n",
       "      <th>Training Loss</th>\n",
       "      <th>Validation Loss</th>\n",
       "    </tr>\n",
       "  </thead>\n",
       "  <tbody>\n",
       "    <tr>\n",
       "      <td>0</td>\n",
       "      <td>0.758400</td>\n",
       "      <td>0.683044</td>\n",
       "    </tr>\n",
       "    <tr>\n",
       "      <td>1</td>\n",
       "      <td>0.757600</td>\n",
       "      <td>0.680706</td>\n",
       "    </tr>\n",
       "    <tr>\n",
       "      <td>2</td>\n",
       "      <td>0.749900</td>\n",
       "      <td>0.678959</td>\n",
       "    </tr>\n",
       "    <tr>\n",
       "      <td>4</td>\n",
       "      <td>0.752800</td>\n",
       "      <td>0.676111</td>\n",
       "    </tr>\n",
       "    <tr>\n",
       "      <td>5</td>\n",
       "      <td>0.746100</td>\n",
       "      <td>0.675141</td>\n",
       "    </tr>\n",
       "    <tr>\n",
       "      <td>6</td>\n",
       "      <td>0.737400</td>\n",
       "      <td>0.674533</td>\n",
       "    </tr>\n",
       "    <tr>\n",
       "      <td>8</td>\n",
       "      <td>0.735600</td>\n",
       "      <td>0.673598</td>\n",
       "    </tr>\n",
       "    <tr>\n",
       "      <td>9</td>\n",
       "      <td>0.741100</td>\n",
       "      <td>0.673531</td>\n",
       "    </tr>\n",
       "  </tbody>\n",
       "</table><p>"
      ],
      "text/plain": [
       "<IPython.core.display.HTML object>"
      ]
     },
     "metadata": {},
     "output_type": "display_data"
    },
    {
     "data": {
      "text/html": [
       "\n",
       "    <div>\n",
       "      \n",
       "      <progress value='954' max='477' style='width:300px; height:20px; vertical-align: middle;'></progress>\n",
       "      [477/477 07:56]\n",
       "    </div>\n",
       "    "
      ],
      "text/plain": [
       "<IPython.core.display.HTML object>"
      ]
     },
     "metadata": {},
     "output_type": "display_data"
    },
    {
     "name": "stdout",
     "output_type": "stream",
     "text": [
      "Starting epoch 8/10...\n"
     ]
    },
    {
     "data": {
      "text/html": [
       "\n",
       "    <div>\n",
       "      \n",
       "      <progress value='1430' max='1430' style='width:300px; height:20px; vertical-align: middle;'></progress>\n",
       "      [1430/1430 1:17:44, Epoch 9/10]\n",
       "    </div>\n",
       "    <table border=\"1\" class=\"dataframe\">\n",
       "  <thead>\n",
       " <tr style=\"text-align: left;\">\n",
       "      <th>Epoch</th>\n",
       "      <th>Training Loss</th>\n",
       "      <th>Validation Loss</th>\n",
       "    </tr>\n",
       "  </thead>\n",
       "  <tbody>\n",
       "    <tr>\n",
       "      <td>0</td>\n",
       "      <td>0.734600</td>\n",
       "      <td>0.671890</td>\n",
       "    </tr>\n",
       "    <tr>\n",
       "      <td>1</td>\n",
       "      <td>0.736500</td>\n",
       "      <td>0.669758</td>\n",
       "    </tr>\n",
       "    <tr>\n",
       "      <td>2</td>\n",
       "      <td>0.729300</td>\n",
       "      <td>0.668270</td>\n",
       "    </tr>\n",
       "    <tr>\n",
       "      <td>4</td>\n",
       "      <td>0.732300</td>\n",
       "      <td>0.665580</td>\n",
       "    </tr>\n",
       "    <tr>\n",
       "      <td>5</td>\n",
       "      <td>0.728700</td>\n",
       "      <td>0.664639</td>\n",
       "    </tr>\n",
       "    <tr>\n",
       "      <td>6</td>\n",
       "      <td>0.717000</td>\n",
       "      <td>0.663990</td>\n",
       "    </tr>\n",
       "    <tr>\n",
       "      <td>8</td>\n",
       "      <td>0.717200</td>\n",
       "      <td>0.663387</td>\n",
       "    </tr>\n",
       "    <tr>\n",
       "      <td>9</td>\n",
       "      <td>0.724500</td>\n",
       "      <td>0.663300</td>\n",
       "    </tr>\n",
       "  </tbody>\n",
       "</table><p>"
      ],
      "text/plain": [
       "<IPython.core.display.HTML object>"
      ]
     },
     "metadata": {},
     "output_type": "display_data"
    },
    {
     "data": {
      "text/html": [
       "\n",
       "    <div>\n",
       "      \n",
       "      <progress value='954' max='477' style='width:300px; height:20px; vertical-align: middle;'></progress>\n",
       "      [477/477 07:55]\n",
       "    </div>\n",
       "    "
      ],
      "text/plain": [
       "<IPython.core.display.HTML object>"
      ]
     },
     "metadata": {},
     "output_type": "display_data"
    },
    {
     "name": "stdout",
     "output_type": "stream",
     "text": [
      "Starting epoch 9/10...\n"
     ]
    },
    {
     "data": {
      "text/html": [
       "\n",
       "    <div>\n",
       "      \n",
       "      <progress value='1430' max='1430' style='width:300px; height:20px; vertical-align: middle;'></progress>\n",
       "      [1430/1430 1:18:04, Epoch 9/10]\n",
       "    </div>\n",
       "    <table border=\"1\" class=\"dataframe\">\n",
       "  <thead>\n",
       " <tr style=\"text-align: left;\">\n",
       "      <th>Epoch</th>\n",
       "      <th>Training Loss</th>\n",
       "      <th>Validation Loss</th>\n",
       "    </tr>\n",
       "  </thead>\n",
       "  <tbody>\n",
       "    <tr>\n",
       "      <td>0</td>\n",
       "      <td>0.716700</td>\n",
       "      <td>0.661553</td>\n",
       "    </tr>\n",
       "    <tr>\n",
       "      <td>1</td>\n",
       "      <td>0.718500</td>\n",
       "      <td>0.659809</td>\n",
       "    </tr>\n",
       "    <tr>\n",
       "      <td>2</td>\n",
       "      <td>0.714200</td>\n",
       "      <td>0.658813</td>\n",
       "    </tr>\n",
       "    <tr>\n",
       "      <td>4</td>\n",
       "      <td>0.715500</td>\n",
       "      <td>0.656756</td>\n",
       "    </tr>\n",
       "    <tr>\n",
       "      <td>5</td>\n",
       "      <td>0.710500</td>\n",
       "      <td>0.656145</td>\n",
       "    </tr>\n",
       "    <tr>\n",
       "      <td>6</td>\n",
       "      <td>0.701000</td>\n",
       "      <td>0.655755</td>\n",
       "    </tr>\n",
       "    <tr>\n",
       "      <td>8</td>\n",
       "      <td>0.699300</td>\n",
       "      <td>0.655040</td>\n",
       "    </tr>\n",
       "    <tr>\n",
       "      <td>9</td>\n",
       "      <td>0.706500</td>\n",
       "      <td>0.655024</td>\n",
       "    </tr>\n",
       "  </tbody>\n",
       "</table><p>"
      ],
      "text/plain": [
       "<IPython.core.display.HTML object>"
      ]
     },
     "metadata": {},
     "output_type": "display_data"
    },
    {
     "data": {
      "text/html": [
       "\n",
       "    <div>\n",
       "      \n",
       "      <progress value='954' max='477' style='width:300px; height:20px; vertical-align: middle;'></progress>\n",
       "      [477/477 08:00]\n",
       "    </div>\n",
       "    "
      ],
      "text/plain": [
       "<IPython.core.display.HTML object>"
      ]
     },
     "metadata": {},
     "output_type": "display_data"
    },
    {
     "name": "stdout",
     "output_type": "stream",
     "text": [
      "Starting epoch 10/10...\n"
     ]
    },
    {
     "data": {
      "text/html": [
       "\n",
       "    <div>\n",
       "      \n",
       "      <progress value='1430' max='1430' style='width:300px; height:20px; vertical-align: middle;'></progress>\n",
       "      [1430/1430 1:18:35, Epoch 9/10]\n",
       "    </div>\n",
       "    <table border=\"1\" class=\"dataframe\">\n",
       "  <thead>\n",
       " <tr style=\"text-align: left;\">\n",
       "      <th>Epoch</th>\n",
       "      <th>Training Loss</th>\n",
       "      <th>Validation Loss</th>\n",
       "    </tr>\n",
       "  </thead>\n",
       "  <tbody>\n",
       "    <tr>\n",
       "      <td>0</td>\n",
       "      <td>0.699000</td>\n",
       "      <td>0.653441</td>\n",
       "    </tr>\n",
       "    <tr>\n",
       "      <td>1</td>\n",
       "      <td>0.702300</td>\n",
       "      <td>0.652414</td>\n",
       "    </tr>\n",
       "    <tr>\n",
       "      <td>2</td>\n",
       "      <td>0.693700</td>\n",
       "      <td>0.651137</td>\n",
       "    </tr>\n",
       "    <tr>\n",
       "      <td>4</td>\n",
       "      <td>0.697800</td>\n",
       "      <td>0.649424</td>\n",
       "    </tr>\n",
       "    <tr>\n",
       "      <td>5</td>\n",
       "      <td>0.696500</td>\n",
       "      <td>0.649015</td>\n",
       "    </tr>\n",
       "    <tr>\n",
       "      <td>6</td>\n",
       "      <td>0.683400</td>\n",
       "      <td>0.648444</td>\n",
       "    </tr>\n",
       "    <tr>\n",
       "      <td>8</td>\n",
       "      <td>0.683700</td>\n",
       "      <td>0.648123</td>\n",
       "    </tr>\n",
       "    <tr>\n",
       "      <td>9</td>\n",
       "      <td>0.688000</td>\n",
       "      <td>0.648081</td>\n",
       "    </tr>\n",
       "  </tbody>\n",
       "</table><p>"
      ],
      "text/plain": [
       "<IPython.core.display.HTML object>"
      ]
     },
     "metadata": {},
     "output_type": "display_data"
    },
    {
     "data": {
      "text/html": [
       "\n",
       "    <div>\n",
       "      \n",
       "      <progress value='477' max='477' style='width:300px; height:20px; vertical-align: middle;'></progress>\n",
       "      [477/477 00:05]\n",
       "    </div>\n",
       "    "
      ],
      "text/plain": [
       "<IPython.core.display.HTML object>"
      ]
     },
     "metadata": {},
     "output_type": "display_data"
    }
   ],
   "source": [
    "# Load the T5 tokenizer and model\n",
    "model_name = \"t5-small\"  # Switch to \"t5-tiny\" if needed\n",
    "tokenizer = T5Tokenizer.from_pretrained(model_name)\n",
    "model = T5ForConditionalGeneration.from_pretrained(model_name)\n",
    "\n",
    "# Enable gradient checkpointing to save memory\n",
    "model.gradient_checkpointing_enable()\n",
    "\n",
    "# Preprocess the dataset\n",
    "tokenized_datasets = dataset.map(preprocess_function, batched=True)\n",
    "\n",
    "# Define training arguments\n",
    "training_args = TrainingArguments(\n",
    "    output_dir=\"./results\",\n",
    "    eval_strategy=\"epoch\",\n",
    "    learning_rate=1e-5,\n",
    "    per_device_train_batch_size=1,  # Reduce batch size\n",
    "    per_device_eval_batch_size=1,\n",
    "    gradient_accumulation_steps=16,  # Increase accumulation steps\n",
    "    num_train_epochs=1\n",
    "    \n",
    "    0,\n",
    "    weight_decay=0.01,\n",
    "    save_total_limit=2,\n",
    "    logging_dir=\"./logs\",\n",
    "    logging_steps=100,\n",
    "    save_steps=500,\n",
    "    report_to=\"none\",\n",
    "    fp16=True,  # Mixed precision to reduce memory usage\n",
    "    dataloader_pin_memory=True,  # Enable pinned memory\n",
    "    dataloader_num_workers=4,  # Adjust data loader workers\n",
    ")\n",
    "\n",
    "# Metric for evaluation\n",
    "metric = load_metric(\"rouge\")\n",
    "\n",
    "# Initialize the MemoryEfficientTrainer\n",
    "trainer = MemoryEfficientTrainer(\n",
    "    model=model,\n",
    "    args=training_args,\n",
    "    train_dataset=tokenized_datasets[\"train\"],\n",
    "    eval_dataset=tokenized_datasets[\"test\"],\n",
    "    tokenizer=tokenizer,\n",
    "    # compute_metrics=compute_metrics\n",
    ")\n",
    "\n",
    "\n",
    "# Train the model\n",
    "try:\n",
    "    for epoch in range(training_args.num_train_epochs):\n",
    "        print(f\"Starting epoch {epoch + 1}/{training_args.num_train_epochs}...\")\n",
    "        clear_memory()\n",
    "        \n",
    "        trainer.train()\n",
    "        \n",
    "        # Clear GPU memory after training\n",
    "        clear_memory()\n",
    "\n",
    "        # Perform evaluation at the end of each epoch\n",
    "        trainer.evaluate()\n",
    "\n",
    "        # Clear GPU memory after evaluation\n",
    "        clear_memory()\n",
    "\n",
    "except RuntimeError as e:\n",
    "    if \"out of memory\" in str(e):\n",
    "        print(\"Out of memory error detected. Clearing cache...\")\n",
    "        torch.cuda.empty_cache()\n",
    "        gc.collect()\n",
    "    else:\n",
    "        raise"
   ]
  },
  {
   "cell_type": "markdown",
   "id": "d5afe748-af70-4f59-a57e-4b04dc4ecee3",
   "metadata": {},
   "source": [
    "# 4. Prediction"
   ]
  },
  {
   "cell_type": "markdown",
   "id": "56db3e13-1692-44ea-9e75-a6b6684e61ec",
   "metadata": {},
   "source": [
    "### 4.1 Set-up for prediction"
   ]
  },
  {
   "cell_type": "code",
   "execution_count": 29,
   "id": "fd14cd89-2047-4393-99a5-d12682fac3da",
   "metadata": {
    "editable": true,
    "slideshow": {
     "slide_type": ""
    },
    "tags": []
   },
   "outputs": [],
   "source": [
    "# Move the model to the appropriate device (GPU if available, otherwise CPU)\n",
    "device = torch.device(\"cuda\" if torch.cuda.is_available() else \"cpu\")\n",
    "model = model.to(device)\n",
    "\n",
    "def predict(snippet):\n",
    "    \"\"\"\n",
    "    Generates a prediction (explanation) for a given code snippet.\n",
    "\n",
    "    Args:\n",
    "        snippet (str): The input code snippet.\n",
    "\n",
    "    Returns:\n",
    "        str: The generated explanation.\n",
    "    \"\"\"\n",
    "    # Preprocess the input snippet\n",
    "    input_text = f\"explain: {snippet}\"\n",
    "    inputs = tokenizer(input_text, return_tensors=\"pt\", max_length=32, truncation=True, padding=\"max_length\")\n",
    "\n",
    "    # Move input tensors to the same device as the model\n",
    "    inputs = {key: value.to(device) for key, value in inputs.items()}\n",
    "\n",
    "    # Generate prediction\n",
    "    outputs = model.generate(\n",
    "        inputs[\"input_ids\"],\n",
    "        max_length=64,\n",
    "        num_beams=4,  # Beam search for better results\n",
    "        early_stopping=True\n",
    "    )\n",
    "\n",
    "    # Decode the prediction\n",
    "    prediction = tokenizer.decode(outputs[0], skip_special_tokens=True)\n",
    "\n",
    "    return prediction"
   ]
  },
  {
   "cell_type": "code",
   "execution_count": 34,
   "id": "7939b4b3-afd6-438b-9070-03afc8925245",
   "metadata": {},
   "outputs": [
    {
     "name": "stdout",
     "output_type": "stream",
     "text": [
      "Code Snippet: ut.sort(key=lambda x: x.count, reverse=True)\n",
      "Explanation: sort a list ut by a tuple count\n"
     ]
    }
   ],
   "source": [
    "# Ensure the model is on the correct device\n",
    "device = torch.device(\"cuda\" if torch.cuda.is_available() else \"cpu\")\n",
    "model.to(device)\n",
    "\n",
    "# Example code snippet\n",
    "index = np.random.randint(len(dataset[\"test\"][\"snippet\"]))\n",
    "code_snippet = dataset[\"test\"][\"snippet\"][index]\n",
    "\n",
    "# Tokenize the input\n",
    "inputs = tokenizer(\n",
    "    f\"explain: {code_snippet}\",\n",
    "    return_tensors=\"pt\",\n",
    "    truncation=True,\n",
    "    padding=\"max_length\",\n",
    "    max_length=32\n",
    ")\n",
    "\n",
    "# Move inputs to the same device as the model\n",
    "inputs = {key: value.to(device) for key, value in inputs.items()}\n",
    "\n",
    "# Generate prediction\n",
    "outputs = model.generate(**inputs)\n",
    "explanation = tokenizer.decode(outputs[0], skip_special_tokens=True)\n",
    "\n",
    "# Print the result\n",
    "print(f\"Code Snippet: {code_snippet}\")\n",
    "print(f\"Explanation: {explanation}\")"
   ]
  },
  {
   "cell_type": "markdown",
   "id": "3b805df3-7762-4070-9258-0e33b64d5378",
   "metadata": {},
   "source": [
    "### 4.2 To check raw Input tensor"
   ]
  },
  {
   "cell_type": "code",
   "execution_count": 19,
   "id": "7a3548bc-c548-4d48-b4bc-6c3fb075358c",
   "metadata": {},
   "outputs": [
    {
     "name": "stdout",
     "output_type": "stream",
     "text": [
      "Raw Output IDs: tensor([[   0,   20,   89,  617,    3,    9, 1768,    3,  115,   12,    3,    9,\n",
      "          570,    3,    2,    9,    2,    1]], device='cuda:0')\n",
      "Decoded Prediction: def add a + b to a list a\n"
     ]
    }
   ],
   "source": [
    "snippet = \"def add(a, b): return a + b\"\n",
    "input_text = f\"explain: {snippet}\"\n",
    "inputs = tokenizer(input_text, return_tensors=\"pt\", max_length=32, truncation=True, padding=\"max_length\")\n",
    "\n",
    "# Move input tensors to the same device as the model\n",
    "inputs = {key: value.to(device) for key, value in inputs.items()}\n",
    "# Generate prediction\n",
    "outputs = model.generate(\n",
    "    inputs[\"input_ids\"],\n",
    "    max_length=32,\n",
    "    num_beams=4,\n",
    "    early_stopping=True\n",
    ")\n",
    "\n",
    "# Print raw outputs (token IDs)\n",
    "print(\"Raw Output IDs:\", outputs)\n",
    "\n",
    "# Decode the prediction\n",
    "prediction = tokenizer.decode(outputs[0], skip_special_tokens=True)\n",
    "print(\"Decoded Prediction:\", prediction)"
   ]
  },
  {
   "cell_type": "markdown",
   "id": "0290064b-955c-46a0-9134-fa1c016f2196",
   "metadata": {},
   "source": [
    "# 5. Evaluation Metrics"
   ]
  },
  {
   "cell_type": "code",
   "execution_count": 27,
   "id": "9643c1a8-75b9-4adc-b4b8-cb3d278f75b5",
   "metadata": {},
   "outputs": [
    {
     "name": "stderr",
     "output_type": "stream",
     "text": [
      "[nltk_data] Downloading package punkt to\n",
      "[nltk_data]     C:\\Users\\Admin\\AppData\\Roaming\\nltk_data...\n",
      "[nltk_data]   Package punkt is already up-to-date!\n",
      "[nltk_data] Downloading package punkt_tab to\n",
      "[nltk_data]     C:\\Users\\Admin\\AppData\\Roaming\\nltk_data...\n",
      "[nltk_data]   Unzipping tokenizers\\punkt_tab.zip.\n",
      "D:\\Projects\\AI Code Generator\\AICG.env\\lib\\site-packages\\datasets\\load.py:759: FutureWarning: The repository for rouge contains custom code which must be executed to correctly load the metric. You can inspect the repository content at https://raw.githubusercontent.com/huggingface/datasets/2.19.1/metrics/rouge/rouge.py\n",
      "You can avoid this message in future by passing the argument `trust_remote_code=True`.\n",
      "Passing `trust_remote_code=True` will be mandatory to load this metric from the next major release of `datasets`.\n",
      "  warnings.warn(\n",
      "D:\\Projects\\AI Code Generator\\AICG.env\\lib\\site-packages\\datasets\\load.py:759: FutureWarning: The repository for sacrebleu contains custom code which must be executed to correctly load the metric. You can inspect the repository content at https://raw.githubusercontent.com/huggingface/datasets/2.19.1/metrics/sacrebleu/sacrebleu.py\n",
      "You can avoid this message in future by passing the argument `trust_remote_code=True`.\n",
      "Passing `trust_remote_code=True` will be mandatory to load this metric from the next major release of `datasets`.\n",
      "  warnings.warn(\n",
      "D:\\Projects\\AI Code Generator\\AICG.env\\lib\\site-packages\\datasets\\load.py:759: FutureWarning: The repository for meteor contains custom code which must be executed to correctly load the metric. You can inspect the repository content at https://raw.githubusercontent.com/huggingface/datasets/2.19.1/metrics/meteor/meteor.py\n",
      "You can avoid this message in future by passing the argument `trust_remote_code=True`.\n",
      "Passing `trust_remote_code=True` will be mandatory to load this metric from the next major release of `datasets`.\n",
      "  warnings.warn(\n",
      "[nltk_data] Downloading package wordnet to\n",
      "[nltk_data]     C:\\Users\\Admin\\AppData\\Roaming\\nltk_data...\n",
      "[nltk_data]   Package wordnet is already up-to-date!\n",
      "[nltk_data] Downloading package punkt to\n",
      "[nltk_data]     C:\\Users\\Admin\\AppData\\Roaming\\nltk_data...\n",
      "[nltk_data]   Package punkt is already up-to-date!\n",
      "[nltk_data] Downloading package omw-1.4 to\n",
      "[nltk_data]     C:\\Users\\Admin\\AppData\\Roaming\\nltk_data...\n",
      "[nltk_data]   Package omw-1.4 is already up-to-date!\n",
      "D:\\Projects\\AI Code Generator\\AICG.env\\lib\\site-packages\\datasets\\load.py:759: FutureWarning: The repository for exact_match contains custom code which must be executed to correctly load the metric. You can inspect the repository content at https://raw.githubusercontent.com/huggingface/datasets/2.19.1/metrics/exact_match/exact_match.py\n",
      "You can avoid this message in future by passing the argument `trust_remote_code=True`.\n",
      "Passing `trust_remote_code=True` will be mandatory to load this metric from the next major release of `datasets`.\n",
      "  warnings.warn(\n"
     ]
    },
    {
     "data": {
      "application/vnd.jupyter.widget-view+json": {
       "model_id": "635c4099fb04474da6b835c5ef49fa2c",
       "version_major": 2,
       "version_minor": 0
      },
      "text/plain": [
       "tokenizer_config.json:   0%|          | 0.00/25.0 [00:00<?, ?B/s]"
      ]
     },
     "metadata": {},
     "output_type": "display_data"
    },
    {
     "data": {
      "application/vnd.jupyter.widget-view+json": {
       "model_id": "6c18ba2747de4f86a7c72fc29387e881",
       "version_major": 2,
       "version_minor": 0
      },
      "text/plain": [
       "config.json:   0%|          | 0.00/482 [00:00<?, ?B/s]"
      ]
     },
     "metadata": {},
     "output_type": "display_data"
    },
    {
     "data": {
      "application/vnd.jupyter.widget-view+json": {
       "model_id": "678cde3e1d254e9587af1c2cc38ce02c",
       "version_major": 2,
       "version_minor": 0
      },
      "text/plain": [
       "vocab.json:   0%|          | 0.00/899k [00:00<?, ?B/s]"
      ]
     },
     "metadata": {},
     "output_type": "display_data"
    },
    {
     "data": {
      "application/vnd.jupyter.widget-view+json": {
       "model_id": "714f49f316f2460da11b2639d8c6d354",
       "version_major": 2,
       "version_minor": 0
      },
      "text/plain": [
       "merges.txt:   0%|          | 0.00/456k [00:00<?, ?B/s]"
      ]
     },
     "metadata": {},
     "output_type": "display_data"
    },
    {
     "data": {
      "application/vnd.jupyter.widget-view+json": {
       "model_id": "40acb6111fc14d778f16005c9b9b221e",
       "version_major": 2,
       "version_minor": 0
      },
      "text/plain": [
       "tokenizer.json:   0%|          | 0.00/1.36M [00:00<?, ?B/s]"
      ]
     },
     "metadata": {},
     "output_type": "display_data"
    },
    {
     "data": {
      "application/vnd.jupyter.widget-view+json": {
       "model_id": "03fa6994467b4092a8178ca564ae074c",
       "version_major": 2,
       "version_minor": 0
      },
      "text/plain": [
       "model.safetensors:   0%|          | 0.00/1.42G [00:00<?, ?B/s]"
      ]
     },
     "metadata": {},
     "output_type": "display_data"
    },
    {
     "name": "stderr",
     "output_type": "stream",
     "text": [
      "Some weights of RobertaModel were not initialized from the model checkpoint at roberta-large and are newly initialized: ['roberta.pooler.dense.bias', 'roberta.pooler.dense.weight']\n",
      "You should probably TRAIN this model on a down-stream task to be able to use it for predictions and inference.\n"
     ]
    },
    {
     "name": "stdout",
     "output_type": "stream",
     "text": [
      "Evaluation Metrics:\n",
      "rouge: {'rouge1': 0.38326906329123506, 'rouge2': 0.16309903385023367, 'rougeL': 0.34328986872763456, 'rougeLsum': 0.3436455090073123}\n",
      "sacrebleu: 10.4388\n",
      "meteor: 0.1947\n",
      "exact_match: 0.0000\n",
      "bertscore_precision: 0.8830\n",
      "bertscore_recall: 0.8602\n",
      "bertscore_f1: 0.8712\n"
     ]
    }
   ],
   "source": [
    "nltk.download('punkt')\n",
    "nltk.download('punkt_tab')\n",
    "\n",
    "# Load metrics\n",
    "rouge = load_metric(\"rouge\")\n",
    "sacrebleu = load_metric(\"sacrebleu\")\n",
    "meteor = load_metric(\"meteor\")\n",
    "exact_match = load_metric(\"exact_match\")\n",
    "\n",
    "# Function to compute evaluation metrics\n",
    "def evaluate_model(model, tokenizer, eval_dataset, batch_size=1, max_length=32, device=\"cuda\"):\n",
    "    \"\"\"\n",
    "    Evaluates the model on the given evaluation dataset using multiple metrics.\n",
    "\n",
    "    Args:\n",
    "        model: The fine-tuned T5 model.\n",
    "        tokenizer: The tokenizer used for the model.\n",
    "        eval_dataset: The evaluation dataset (must contain 'snippet' and 'rewritten_intent').\n",
    "        batch_size: Batch size for evaluation.\n",
    "        max_length: Max length for generated text.\n",
    "        device: Device to run the evaluation on ('cuda' or 'cpu').\n",
    "\n",
    "    Returns:\n",
    "        dict: Dictionary containing various metrics.\n",
    "    \"\"\"\n",
    "    model.eval()\n",
    "    model.to(device)\n",
    "\n",
    "    # DataLoader for batching\n",
    "    dataloader = DataLoader(eval_dataset, batch_size=batch_size)\n",
    "\n",
    "    all_predictions = []\n",
    "    all_labels = []\n",
    "\n",
    "    # Loop through the evaluation dataset\n",
    "    for batch in dataloader:\n",
    "        # Extract input texts and reference labels\n",
    "        inputs = [f\"explain: {text}\" for text in batch[\"snippet\"]]\n",
    "        labels = batch[\"rewritten_intent\"]\n",
    "\n",
    "        # Tokenize inputs and move to device\n",
    "        tokenized_inputs = tokenizer(inputs, return_tensors=\"pt\", padding=True, truncation=True, max_length=max_length)\n",
    "        tokenized_inputs = {key: value.to(device) for key, value in tokenized_inputs.items()}\n",
    "\n",
    "        # Generate predictions\n",
    "        with torch.no_grad():\n",
    "            outputs = model.generate(\n",
    "                tokenized_inputs[\"input_ids\"],\n",
    "                max_length=max_length,\n",
    "                num_beams=4,\n",
    "                early_stopping=True\n",
    "            )\n",
    "\n",
    "        # Decode predictions and references\n",
    "        predictions = tokenizer.batch_decode(outputs, skip_special_tokens=True)\n",
    "        all_predictions.extend(predictions)\n",
    "        all_labels.extend(labels)\n",
    "\n",
    "    # Compute ROUGE scores\n",
    "    rouge_result = rouge.compute(predictions=all_predictions, references=all_labels, use_stemmer=True)\n",
    "    rouge_scores = {key: value.mid.fmeasure for key, value in rouge_result.items()}\n",
    "\n",
    "    # Compute SacreBLEU scores\n",
    "    sacrebleu_score = sacrebleu.compute(predictions=all_predictions, references=[[ref] for ref in all_labels])\n",
    "\n",
    "    # Compute METEOR scores\n",
    "    meteor_score = meteor.compute(predictions=all_predictions, references=all_labels)\n",
    "\n",
    "    # Compute Exact Match scores\n",
    "    exact_match_score = exact_match.compute(predictions=all_predictions, references=all_labels)\n",
    "\n",
    "    # Compute BERTScore\n",
    "    bertscore_precision, bertscore_recall, bertscore_f1 = bert_score(\n",
    "        cands=all_predictions, refs=all_labels, lang=\"en\", device=device\n",
    "    )\n",
    "\n",
    "    # Aggregate results\n",
    "    metrics = {\n",
    "        \"rouge\": rouge_scores,\n",
    "        \"sacrebleu\": sacrebleu_score[\"score\"],\n",
    "        \"meteor\": meteor_score[\"meteor\"],\n",
    "        \"exact_match\": exact_match_score[\"exact_match\"],\n",
    "        \"bertscore_precision\": bertscore_precision.mean().item(),\n",
    "        \"bertscore_recall\": bertscore_recall.mean().item(),\n",
    "        \"bertscore_f1\": bertscore_f1.mean().item()\n",
    "    }\n",
    "\n",
    "    return metrics\n",
    "\n",
    "\n",
    "# Example usage\n",
    "tokenized_datasets = dataset.map(preprocess_function, batched=True)\n",
    "\n",
    "eval_scores = evaluate_model(\n",
    "    model=model,\n",
    "    tokenizer=tokenizer,\n",
    "    eval_dataset=tokenized_datasets[\"test\"],\n",
    "    batch_size=8,  # Adjust batch size based on your GPU memory\n",
    "    max_length=64,  # Match the max length used during training\n",
    "    device=\"cuda\"  # Use 'cuda' if you have a GPU, otherwise 'cpu'\n",
    ")\n",
    "\n",
    "# Print evaluation metrics\n",
    "print(\"Evaluation Metrics:\")\n",
    "for metric, value in eval_scores.items():\n",
    "    print(f\"{metric}: {value:.4f}\" if isinstance(value, float) else f\"{metric}: {value}\")"
   ]
  },
  {
   "cell_type": "markdown",
   "id": "b5413ad5-992c-4d67-86c0-1a39d956d567",
   "metadata": {},
   "source": [
    "# 7. Save and Load (Model, Tokenizer and History)"
   ]
  },
  {
   "cell_type": "markdown",
   "id": "65d30a5c-3673-4c32-a646-442ee967a270",
   "metadata": {},
   "source": [
    "#### 7.1 Save Model, Tokenizer and History"
   ]
  },
  {
   "cell_type": "code",
   "execution_count": 13,
   "id": "04804d3e-ed5f-4a6d-bd5d-89041038900f",
   "metadata": {},
   "outputs": [
    {
     "name": "stdout",
     "output_type": "stream",
     "text": [
      "Model and training history saved to ../Models/Model_V3/\n"
     ]
    }
   ],
   "source": [
    "# Define the save path\n",
    "save_path = \"../Models/Model_V3/\"  # Change this to your desired directory path\n",
    "\n",
    "# Make sure the directory exists\n",
    "os.makedirs(save_path, exist_ok=True)\n",
    "\n",
    "# Save the model and tokenizer\n",
    "model.save_pretrained(save_path)\n",
    "tokenizer.save_pretrained(save_path)\n",
    "\n",
    "# Save the training history (logs and metrics)\n",
    "# Convert training arguments into a serializable format\n",
    "training_args_dict = {key: str(value) if not isinstance(value, (str, int, float, bool, list, dict)) else value\n",
    "                      for key, value in vars(training_args).items()}\n",
    "\n",
    "training_history = {\n",
    "    \"train_loss_history\": trainer.state.log_history,\n",
    "    \"best_model_checkpoint\": trainer.state.best_model_checkpoint,\n",
    "    \"total_steps\": trainer.state.global_step,\n",
    "    \"training_args\": training_args_dict  # Serialized training arguments\n",
    "}\n",
    "\n",
    "with open(os.path.join(save_path, \"training_history.json\"), \"w\") as f:\n",
    "    json.dump(training_history, f, indent=4)\n",
    "\n",
    "print(f\"Model and training history saved to {save_path}\")"
   ]
  },
  {
   "cell_type": "markdown",
   "id": "6f1f1547-bac2-4f5a-b2d6-d70a1d6fcc26",
   "metadata": {},
   "source": [
    "### 7.2 Load Model, Tokenizer and History"
   ]
  },
  {
   "cell_type": "code",
   "execution_count": 44,
   "id": "e5e82514-d9cd-49b4-b706-dc8e2b9cb44a",
   "metadata": {},
   "outputs": [
    {
     "name": "stdout",
     "output_type": "stream",
     "text": [
      "Training history: {'train_loss_history': [{'loss': 0.699, 'grad_norm': 0.6693894863128662, 'learning_rate': 9.300699300699301e-06, 'epoch': 0.6956521739130435, 'step': 100}, {'eval_loss': 0.653440535068512, 'eval_runtime': 9.3499, 'eval_samples_per_second': 51.017, 'eval_steps_per_second': 51.017, 'epoch': 0.9947826086956522, 'step': 143}, {'loss': 0.7023, 'grad_norm': 0.7555273771286011, 'learning_rate': 8.601398601398602e-06, 'epoch': 1.391304347826087, 'step': 200}, {'eval_loss': 0.6524140238761902, 'eval_runtime': 9.5612, 'eval_samples_per_second': 49.889, 'eval_steps_per_second': 49.889, 'epoch': 1.9965217391304346, 'step': 287}, {'loss': 0.7099, 'grad_norm': 0.7096579074859619, 'learning_rate': 7.902097902097902e-06, 'epoch': 2.0869565217391304, 'step': 300}, {'loss': 0.6937, 'grad_norm': 0.6902344822883606, 'learning_rate': 7.202797202797203e-06, 'epoch': 2.782608695652174, 'step': 400}, {'eval_loss': 0.6511369943618774, 'eval_runtime': 8.7122, 'eval_samples_per_second': 54.751, 'eval_steps_per_second': 54.751, 'epoch': 2.9982608695652173, 'step': 431}, {'loss': 0.7046, 'grad_norm': 0.6021838188171387, 'learning_rate': 6.503496503496504e-06, 'epoch': 3.4782608695652173, 'step': 500}, {'eval_loss': 0.6502493619918823, 'eval_runtime': 12.8021, 'eval_samples_per_second': 37.26, 'eval_steps_per_second': 37.26, 'epoch': 4.0, 'step': 575}, {'loss': 0.6878, 'grad_norm': 0.6674730181694031, 'learning_rate': 5.804195804195804e-06, 'epoch': 4.173913043478261, 'step': 600}, {'loss': 0.6978, 'grad_norm': 1.6040990352630615, 'learning_rate': 5.1048951048951055e-06, 'epoch': 4.869565217391305, 'step': 700}, {'eval_loss': 0.6494235396385193, 'eval_runtime': 8.1567, 'eval_samples_per_second': 58.48, 'eval_steps_per_second': 58.48, 'epoch': 4.994782608695652, 'step': 718}, {'loss': 0.6965, 'grad_norm': 1.4226785898208618, 'learning_rate': 4.405594405594406e-06, 'epoch': 5.565217391304348, 'step': 800}, {'eval_loss': 0.6490147709846497, 'eval_runtime': 8.1311, 'eval_samples_per_second': 58.663, 'eval_steps_per_second': 58.663, 'epoch': 5.996521739130435, 'step': 862}, {'loss': 0.6942, 'grad_norm': 0.5894320607185364, 'learning_rate': 3.7062937062937064e-06, 'epoch': 6.260869565217392, 'step': 900}, {'loss': 0.6834, 'grad_norm': 0.5927358269691467, 'learning_rate': 3.006993006993007e-06, 'epoch': 6.956521739130435, 'step': 1000}, {'eval_loss': 0.6484441161155701, 'eval_runtime': 7.9297, 'eval_samples_per_second': 60.154, 'eval_steps_per_second': 60.154, 'epoch': 6.998260869565217, 'step': 1006}, {'loss': 0.7, 'grad_norm': 1.489937663078308, 'learning_rate': 2.307692307692308e-06, 'epoch': 7.6521739130434785, 'step': 1100}, {'eval_loss': 0.6482430696487427, 'eval_runtime': 9.1983, 'eval_samples_per_second': 51.857, 'eval_steps_per_second': 51.857, 'epoch': 8.0, 'step': 1150}, {'loss': 0.6837, 'grad_norm': 1.496003270149231, 'learning_rate': 1.6153846153846157e-06, 'epoch': 8.347826086956522, 'step': 1200}, {'eval_loss': 0.6481225490570068, 'eval_runtime': 8.8578, 'eval_samples_per_second': 53.851, 'eval_steps_per_second': 53.851, 'epoch': 8.994782608695653, 'step': 1293}, {'loss': 0.6956, 'grad_norm': 0.608982503414154, 'learning_rate': 9.160839160839162e-07, 'epoch': 9.043478260869565, 'step': 1300}, {'loss': 0.688, 'grad_norm': 0.5811588168144226, 'learning_rate': 2.1678321678321678e-07, 'epoch': 9.73913043478261, 'step': 1400}, {'eval_loss': 0.6480812430381775, 'eval_runtime': 8.3794, 'eval_samples_per_second': 56.925, 'eval_steps_per_second': 56.925, 'epoch': 9.947826086956521, 'step': 1430}, {'train_runtime': 4721.6096, 'train_samples_per_second': 4.871, 'train_steps_per_second': 0.303, 'total_flos': 193538776104960.0, 'train_loss': 0.6953559261935575, 'epoch': 9.947826086956521, 'step': 1430}, {'eval_loss': 0.6480812430381775, 'eval_runtime': 8.0949, 'eval_samples_per_second': 58.926, 'eval_steps_per_second': 58.926, 'epoch': 9.947826086956521, 'step': 1430}], 'best_model_checkpoint': None, 'total_steps': 1430, 'training_args': {'output_dir': './results', 'overwrite_output_dir': False, 'do_train': False, 'do_eval': True, 'do_predict': False, 'eval_strategy': 'epoch', 'prediction_loss_only': False, 'per_device_train_batch_size': 1, 'per_device_eval_batch_size': 1, 'per_gpu_train_batch_size': 'None', 'per_gpu_eval_batch_size': 'None', 'gradient_accumulation_steps': 16, 'eval_accumulation_steps': 'None', 'eval_delay': 0, 'torch_empty_cache_steps': 'None', 'learning_rate': 1e-05, 'weight_decay': 0.01, 'adam_beta1': 0.9, 'adam_beta2': 0.999, 'adam_epsilon': 1e-08, 'max_grad_norm': 1.0, 'num_train_epochs': 10, 'max_steps': -1, 'lr_scheduler_type': 'linear', 'lr_scheduler_kwargs': {}, 'warmup_ratio': 0.0, 'warmup_steps': 0, 'log_level': 'passive', 'log_level_replica': 'warning', 'log_on_each_node': True, 'logging_dir': './logs', 'logging_strategy': 'steps', 'logging_first_step': False, 'logging_steps': 100, 'logging_nan_inf_filter': True, 'save_strategy': 'steps', 'save_steps': 500, 'save_total_limit': 2, 'save_safetensors': True, 'save_on_each_node': False, 'save_only_model': False, 'restore_callback_states_from_checkpoint': False, 'no_cuda': False, 'use_cpu': False, 'use_mps_device': False, 'seed': 42, 'data_seed': 'None', 'jit_mode_eval': False, 'use_ipex': False, 'bf16': False, 'fp16': True, 'fp16_opt_level': 'O1', 'half_precision_backend': 'auto', 'bf16_full_eval': False, 'fp16_full_eval': False, 'tf32': 'None', 'local_rank': 0, 'ddp_backend': 'None', 'tpu_num_cores': 'None', 'tpu_metrics_debug': False, 'debug': [], 'dataloader_drop_last': False, 'eval_steps': 'None', 'dataloader_num_workers': 4, 'dataloader_prefetch_factor': 'None', 'past_index': -1, 'run_name': './results', 'disable_tqdm': False, 'remove_unused_columns': True, 'label_names': 'None', 'load_best_model_at_end': False, 'metric_for_best_model': 'None', 'greater_is_better': 'None', 'ignore_data_skip': False, 'fsdp': [], 'fsdp_min_num_params': 0, 'fsdp_config': {'min_num_params': 0, 'xla': False, 'xla_fsdp_v2': False, 'xla_fsdp_grad_ckpt': False}, 'fsdp_transformer_layer_cls_to_wrap': 'None', 'accelerator_config': 'AcceleratorConfig(split_batches=False, dispatch_batches=None, even_batches=True, use_seedable_sampler=True, non_blocking=False, gradient_accumulation_kwargs=None, use_configured_state=False)', 'deepspeed': 'None', 'label_smoothing_factor': 0.0, 'optim': 'adamw_torch', 'optim_args': 'None', 'adafactor': False, 'group_by_length': False, 'length_column_name': 'length', 'report_to': [], 'ddp_find_unused_parameters': 'None', 'ddp_bucket_cap_mb': 'None', 'ddp_broadcast_buffers': 'None', 'dataloader_pin_memory': True, 'dataloader_persistent_workers': False, 'skip_memory_metrics': True, 'use_legacy_prediction_loop': False, 'push_to_hub': False, 'resume_from_checkpoint': 'None', 'hub_model_id': 'None', 'hub_strategy': 'every_save', 'hub_token': 'None', 'hub_private_repo': False, 'hub_always_push': False, 'gradient_checkpointing': False, 'gradient_checkpointing_kwargs': 'None', 'include_inputs_for_metrics': False, 'eval_do_concat_batches': True, 'fp16_backend': 'auto', 'evaluation_strategy': 'None', 'push_to_hub_model_id': 'None', 'push_to_hub_organization': 'None', 'push_to_hub_token': 'None', 'mp_parameters': '', 'auto_find_batch_size': False, 'full_determinism': False, 'torchdynamo': 'None', 'ray_scope': 'last', 'ddp_timeout': 1800, 'torch_compile': False, 'torch_compile_backend': 'None', 'torch_compile_mode': 'None', 'dispatch_batches': 'None', 'split_batches': 'None', 'include_tokens_per_second': False, 'include_num_input_tokens_seen': False, 'neftune_noise_alpha': 'None', 'optim_target_modules': 'None', 'batch_eval_metrics': False, 'eval_on_start': False, 'use_liger_kernel': False, 'eval_use_gather_object': False, 'distributed_state': 'Distributed environment: NO\\nNum processes: 1\\nProcess index: 0\\nLocal process index: 0\\nDevice: cuda\\n', '_n_gpu': 1, '__cached__setup_devices': 'cuda:0', 'deepspeed_plugin': 'None'}}\n"
     ]
    }
   ],
   "source": [
    "# Load the model and tokenizer from the saved path\n",
    "model = T5ForConditionalGeneration.from_pretrained(\"../Models/Model_V3/\")\n",
    "tokenizer = T5Tokenizer.from_pretrained(\"../Models/Model_V3/\")\n",
    "\n",
    "# Optionally, load the training history\n",
    "with open(\"../Models/Model_V3/training_history.json\", \"r\") as f:\n",
    "    training_history = json.load(f)\n",
    "\n",
    "print(\"Training history:\", training_history)"
   ]
  },
  {
   "cell_type": "markdown",
   "id": "87866fe7-cb4b-4e63-a79e-169c2fdf35a3",
   "metadata": {},
   "source": [
    "# 8. History Plot"
   ]
  },
  {
   "cell_type": "code",
   "execution_count": 40,
   "id": "8f5b2e98-2b95-4cb2-b308-b4cd9591d74b",
   "metadata": {},
   "outputs": [],
   "source": [
    "# Extract training and validation metrics from the history dictionary\n",
    "def extract_metrics(training_history):\n",
    "    train_loss = []\n",
    "    val_loss = []\n",
    "    epochs_train = []\n",
    "    epochs_val = []\n",
    "\n",
    "    # Extract the list of records from `training_history`\n",
    "    records = training_history.get('train_loss_history', [])\n",
    "\n",
    "    for record in records:\n",
    "        if isinstance(record, dict):  # Ensure each entry is a dictionary\n",
    "            if \"loss\" in record:  # Training loss\n",
    "                train_loss.append(record[\"loss\"])\n",
    "                epochs_train.append(record[\"epoch\"])\n",
    "            if \"eval_loss\" in record:  # Validation loss\n",
    "                val_loss.append(record[\"eval_loss\"])\n",
    "                epochs_val.append(record[\"epoch\"])\n",
    "\n",
    "    return train_loss, val_loss, epochs_train, epochs_val\n",
    "\n",
    "# Plotting function\n",
    "def plot_metrics(train_loss, val_loss, epochs_train, epochs_val):\n",
    "    plt.figure(figsize=(10, 6))\n",
    "    \n",
    "    # Plot training loss\n",
    "    plt.plot(epochs_train, train_loss, label='Training Loss', marker='o', color='blue')\n",
    "    # Plot validation loss\n",
    "    plt.plot(epochs_val, val_loss, label='Validation Loss', marker='o', color='red')\n",
    "\n",
    "    plt.title('Training and Validation Loss Over Epochs')\n",
    "    plt.xlabel('Epochs')\n",
    "    plt.ylabel('Loss')\n",
    "    plt.legend()\n",
    "    plt.grid(True)\n",
    "    plt.show()"
   ]
  },
  {
   "cell_type": "code",
   "execution_count": 47,
   "id": "a2dafe06-a6d4-41bb-9b6c-5511c1e79cd1",
   "metadata": {},
   "outputs": [
    {
     "data": {
      "image/png": "[encoded data removed]",
      "text/plain": [
       "<Figure size 1000x600 with 1 Axes>"
      ]
     },
     "metadata": {},
     "output_type": "display_data"
    }
   ],
   "source": [
    "# Use the updated training history\n",
    "train_loss, val_loss, epochs_train, epochs_val = extract_metrics(training_history)\n",
    "\n",
    "# Plot\n",
    "plot_metrics(train_loss, val_loss, epochs_train, epochs_val)"
   ]
  },
  {
   "cell_type": "code",
   "execution_count": null,
   "id": "75952819-b405-41cc-b6ff-8fc0f877d8de",
   "metadata": {},
   "outputs": [],
   "source": []
  }
 ],
 "metadata": {
  "kernelspec": {
   "display_name": "Python 3 (ipykernel)",
   "language": "python",
   "name": "python3"
  },
  "language_info": {
   "codemirror_mode": {
    "name": "ipython",
    "version": 3
   },
   "file_extension": ".py",
   "mimetype": "text/x-python",
   "name": "python",
   "nbconvert_exporter": "python",
   "pygments_lexer": "ipython3",
   "version": "3.9.21"
  }
 },
 "nbformat": 4,
 "nbformat_minor": 5
}
